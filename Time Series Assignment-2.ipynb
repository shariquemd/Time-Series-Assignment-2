{
 "cells": [
  {
   "cell_type": "code",
   "execution_count": null,
   "id": "876aad04-8a3a-43be-87c0-084191d3e926",
   "metadata": {},
   "outputs": [],
   "source": [
    "1. Time-dependent seasonal components refer to recurring patterns in time series data that vary in intensity or shape over different time periods. Unlike fixed seasonal components, which have a consistent pattern, time-dependent components allow for variations over time.\n",
    "\n",
    "2. Identifying time-dependent seasonal components involves analyzing the data for patterns that exhibit variation in seasonality across different time periods. This can be done through visual inspection, statistical tests, and domain knowledge.\n",
    "\n",
    "3. Factors influencing time-dependent seasonal components include external events, economic changes, and shifts in consumer behavior. These factors can lead to variations in seasonal patterns over time.\n",
    "\n",
    "4. Autoregression models use the relationship between an observation and its lagged values to make predictions. In a time series context, autoregressive models, such as AR(p), express the current value as a linear combination of its past values.\n",
    "\n",
    "5. Autoregression models make predictions for future time points by using the regression coefficients obtained during model training. The model takes past observations and predicts the next value based on the linear combination of these historical values.\n",
    "\n",
    "6. A Moving Average (MA) model represents the relationship between an observation and a residual term from a moving average process. It differs from autoregressive models by relying on past prediction errors rather than past observations to make forecasts.\n",
    "\n",
    "7. A mixed ARMA (AutoRegressive Moving Average) model combines autoregressive (AR) and moving average (MA) components. An AR model captures dependencies on past observations, while an MA model considers dependencies on past forecast errors. The combination allows for a more flexible representation of complex time series patterns."
   ]
  }
 ],
 "metadata": {
  "kernelspec": {
   "display_name": "Python 3 (ipykernel)",
   "language": "python",
   "name": "python3"
  },
  "language_info": {
   "codemirror_mode": {
    "name": "ipython",
    "version": 3
   },
   "file_extension": ".py",
   "mimetype": "text/x-python",
   "name": "python",
   "nbconvert_exporter": "python",
   "pygments_lexer": "ipython3",
   "version": "3.10.8"
  }
 },
 "nbformat": 4,
 "nbformat_minor": 5
}
